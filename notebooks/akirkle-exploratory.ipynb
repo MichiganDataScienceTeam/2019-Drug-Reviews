{
 "cells": [
  {
   "cell_type": "code",
   "execution_count": 213,
   "metadata": {},
   "outputs": [],
   "source": [
    "import pandas as pd\n",
    "import numpy as np\n",
    "import requests\n",
    "from bs4 import BeautifulSoup\n",
    "from lxml.html import fromstring\n",
    "from itertools import cycle\n",
    "import traceback\n",
    "import string"
   ]
  },
  {
   "cell_type": "code",
   "execution_count": null,
   "metadata": {},
   "outputs": [],
   "source": [
    "price_data = pd.read_csv('../data/raw/NADAC__National_Average_Drug_Acquisition_Cost_.csv')\n",
    "drug_data = pd.read_csv('../data/raw/drugsComTrain_raw.tsv',sep='\\t')"
   ]
  },
  {
   "cell_type": "code",
   "execution_count": null,
   "metadata": {},
   "outputs": [],
   "source": [
    "\"\"\"\n",
    "URL format on askapatient: \n",
    "    https://www.askapatient.com/viewrating.asp?drug=NUM&page=PAGE\n",
    "    NUM ranges up to at least 200000, but does not exists for all integers in that range\n",
    "    PAGE ranges up to about 50 or 100, and for PAGE greater than the max page limit, it repeats the last page\n",
    "    \n",
    "Issues: \n",
    "    Access to page blocked when using 'requests' library\n",
    "\"\"\""
   ]
  },
  {
   "cell_type": "code",
   "execution_count": 45,
   "metadata": {},
   "outputs": [],
   "source": [
    "def get_proxies():\n",
    "    url = 'https://free-proxy-list.net/'\n",
    "    response = requests.get(url)\n",
    "    parser = fromstring(response.text)\n",
    "    proxies = []\n",
    "    for i in parser.xpath('//tbody/tr'):\n",
    "        if i.xpath('.//td[7][contains(text(),\"yes\")]'):\n",
    "            #Grabbing IP and corresponding PORT\n",
    "            proxy = \":\".join([i.xpath('.//td[1]/text()')[0], i.xpath('.//td[2]/text()')[0]])\n",
    "            proxies.append(proxy)\n",
    "    return proxies\n",
    "\n",
    "desktop_agents = ['Mozilla/5.0 (Windows NT 6.1; WOW64) AppleWebKit/537.36 (KHTML, like Gecko) Chrome/54.0.2840.99 Safari/537.36',\n",
    "                 'Mozilla/5.0 (Windows NT 10.0; WOW64) AppleWebKit/537.36 (KHTML, like Gecko) Chrome/54.0.2840.99 Safari/537.36',\n",
    "                 'Mozilla/5.0 (Windows NT 10.0; Win64; x64) AppleWebKit/537.36 (KHTML, like Gecko) Chrome/54.0.2840.99 Safari/537.36',\n",
    "                 'Mozilla/5.0 (Macintosh; Intel Mac OS X 10_12_1) AppleWebKit/602.2.14 (KHTML, like Gecko) Version/10.0.1 Safari/602.2.14',\n",
    "                 'Mozilla/5.0 (Windows NT 10.0; WOW64) AppleWebKit/537.36 (KHTML, like Gecko) Chrome/54.0.2840.71 Safari/537.36',\n",
    "                 'Mozilla/5.0 (Macintosh; Intel Mac OS X 10_12_1) AppleWebKit/537.36 (KHTML, like Gecko) Chrome/54.0.2840.98 Safari/537.36',\n",
    "                 'Mozilla/5.0 (Macintosh; Intel Mac OS X 10_11_6) AppleWebKit/537.36 (KHTML, like Gecko) Chrome/54.0.2840.98 Safari/537.36',\n",
    "                 'Mozilla/5.0 (Windows NT 6.1; WOW64) AppleWebKit/537.36 (KHTML, like Gecko) Chrome/54.0.2840.71 Safari/537.36',\n",
    "                 'Mozilla/5.0 (Windows NT 6.1; Win64; x64) AppleWebKit/537.36 (KHTML, like Gecko) Chrome/54.0.2840.99 Safari/537.36',\n",
    "                 'Mozilla/5.0 (Windows NT 10.0; WOW64; rv:50.0) Gecko/20100101 Firefox/50.0']\n",
    "\n",
    "def random_headers():\n",
    "    return {'User-Agent': np.random.choice(desktop_agents),'Accept':'text/html,application/xhtml+xml,application/xml;q=0.9,image/webp,*/*;q=0.8'}\n",
    "                "
   ]
  },
  {
   "cell_type": "code",
   "execution_count": 336,
   "metadata": {},
   "outputs": [],
   "source": [
    "\"\"\"\n",
    "Primary code ripped from https://srome.github.io/Parsing-HTML-Tables-in-Python-with-BeautifulSoup-and-pandas/\n",
    "Proxy rotation ripped from https://www.scrapehero.com/how-to-rotate-proxies-and-ip-addresses-using-python-3/\n",
    "\"\"\"\n",
    "\n",
    "class DrugTableParser:\n",
    "\n",
    "    def parse_url(self, url):\n",
    "        \n",
    "        proxy = np.random.choice(get_proxies())\n",
    "        \n",
    "        try:\n",
    "            response = requests.get(url,proxies={\"http\": proxy, \"https\": proxy},headers=random_headers())\n",
    "        except:\n",
    "            print(\"Failed\")\n",
    "            return self.parse_url(url)\n",
    "            \n",
    "            \n",
    "        soup = BeautifulSoup(response.text, 'lxml')\n",
    "        all_tables = soup.find_all('table')\n",
    "        \n",
    "        try:\n",
    "            drug = all_tables[0].find_all('h1')[0].get_text().split(' ')[0]\n",
    "            reviews = self.parse_html_table(all_tables[1])\n",
    "        except:\n",
    "            print(\"Failed\")\n",
    "            return self.parse_url(url)\n",
    "                 \n",
    "        return drug,reviews  \n",
    "\n",
    "    def parse_html_table(self, table):\n",
    "        \n",
    "        cells = table.find_all('td')[8:][8:]\n",
    "        ratings = [c.get_text()[1:] for c in cells[::8]]\n",
    "        reasons = [c.get_text()[1:] for c in cells[1::8]]\n",
    "        side_effects = [c.get_text() for c in cells[2::8]]\n",
    "        comments = [c.get_text() for c in cells[3::8]]\n",
    "        sexes = [c.get_text() for c in cells[4::8]]\n",
    "        ages = [c.get_text() for c in cells[5::8]]\n",
    "        dds = [c.get_text() for c in cells[6::8]]\n",
    "        dates = [c.get_text() for c in cells[7::8]]\n",
    "        df = pd.DataFrame({'RATING':[],'REASON':[],'SIDE EFFECTS':[],'COMMENTS':[],'SEX':[],'AGE':[],'DURATION/DOSAGE':[],'DATE ADDED':[]})\n",
    "        df['RATING'] = ratings\n",
    "        df['REASON'] = reasons\n",
    "        df['SIDE EFFECTS'] = side_effects\n",
    "        df['COMMENTS'] = comments\n",
    "        df['SEX'] = sexes\n",
    "        df['AGE'] = ages\n",
    "        df['DURATION/DOSAGE'] = dds\n",
    "        df['DATE ADDED'] = dates\n",
    "        \n",
    "        return df\n",
    "    \n",
    "def parse_drug_list(url):\n",
    "        \n",
    "    proxy = np.random.choice(get_proxies())\n",
    "    response = requests.get(url,proxies={\"http\": proxy, \"https\": proxy},headers=random_headers())\n",
    "    soup = BeautifulSoup(response.text, 'lxml')\n",
    "    a_s = soup.find_all('a')[59:-4]\n",
    "\n",
    "    return [a.get('href')[20:].split('&')[0] for a in a_s if a.get('href')[20:]!='l']\n",
    "\n",
    "def parse_for_page_count(url):\n",
    "        \n",
    "        proxy = np.random.choice(get_proxies())\n",
    "        \n",
    "        try:\n",
    "            response = requests.get(url,proxies={\"http\": proxy, \"https\": proxy},headers=random_headers())\n",
    "        except:\n",
    "            print(\"Failed\")\n",
    "            return self.parse_url(url)\n",
    "            \n",
    "        soup = BeautifulSoup(response.text, 'lxml')\n",
    "        a_s = soup.find_all('a')[40:]\n",
    "        \n",
    "        for i, a in enumerate(a_s):\n",
    "            if a.get('href')[0] == '/':\n",
    "                return i+1"
   ]
  },
  {
   "cell_type": "code",
   "execution_count": 307,
   "metadata": {},
   "outputs": [
    {
     "name": "stdout",
     "output_type": "stream",
     "text": [
      "A\n"
     ]
    }
   ],
   "source": [
    "review_urls = []\n",
    "for l in string.ascii_uppercase:\n",
    "    print(l)\n",
    "    drug_indices = parse_drug_list('https://www.askapatient.com/drugalpha.asp?letter='+l)\n",
    "    for i in drug_indices:\n",
    "        if i[-1].isdigit():\n",
    "            num_pages = parse_for_page_count('https://www.askapatient.com/viewrating.asp?drug='+i)\n",
    "            for j in range(1,num_pages+1):\n",
    "                review_urls.append('https://www.askapatient.com/viewrating.asp?drug='+i+'&page='+str(num_pages)\n",
    "    \n",
    "review_urls = np.array(review_urls).flatten()\n",
    "\n",
    "\n",
    "\n",
    "# url = 'https://www.askapatient.com/viewrating.asp?drug=21514&name=DAYTRANA&page=1' \n",
    "# drug,review_table = DrugTableParser().parse_url(url)"
   ]
  },
  {
   "cell_type": "code",
   "execution_count": 341,
   "metadata": {},
   "outputs": [
    {
     "data": {
      "text/plain": [
       "13"
      ]
     },
     "execution_count": 341,
     "metadata": {},
     "output_type": "execute_result"
    }
   ],
   "source": [
    "url = 'https://www.askapatient.com/viewrating.asp?drug=18471&name=OCUCLEAR' \n",
    "parse_for_page_count(url)"
   ]
  },
  {
   "cell_type": "code",
   "execution_count": null,
   "metadata": {},
   "outputs": [],
   "source": []
  }
 ],
 "metadata": {
  "kernelspec": {
   "display_name": "Python 3",
   "language": "python",
   "name": "python3"
  },
  "language_info": {
   "codemirror_mode": {
    "name": "ipython",
    "version": 3
   },
   "file_extension": ".py",
   "mimetype": "text/x-python",
   "name": "python",
   "nbconvert_exporter": "python",
   "pygments_lexer": "ipython3",
   "version": "3.7.3"
  }
 },
 "nbformat": 4,
 "nbformat_minor": 2
}
