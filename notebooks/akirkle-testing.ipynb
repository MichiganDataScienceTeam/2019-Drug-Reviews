{
 "cells": [
  {
   "cell_type": "markdown",
   "metadata": {
    "colab_type": "text",
    "id": "uFTWtKZHiz_A"
   },
   "source": [
    "# Imports "
   ]
  },
  {
   "cell_type": "code",
   "execution_count": 1,
   "metadata": {
    "colab": {},
    "colab_type": "code",
    "id": "WHsxeqbBiz_B"
   },
   "outputs": [],
   "source": [
    "import pandas as pd\n",
    "import numpy as np\n",
    "from collections import Counter\n",
    "import matplotlib.pyplot as plt\n",
    "import datetime\n",
    "import itertools\n",
    "import os\n",
    "from IPython.display import clear_output"
   ]
  },
  {
   "cell_type": "code",
   "execution_count": 2,
   "metadata": {
    "colab": {
     "base_uri": "https://localhost:8080/",
     "height": 173
    },
    "colab_type": "code",
    "id": "5Ngzl4vKiz_F",
    "outputId": "6b3b441e-20e0-43c6-ead6-09168783fb83"
   },
   "outputs": [],
   "source": [
    "import re, string, unicodedata\n",
    "import nltk\n",
    "import nltk\n",
    "import contractions\n",
    "import inflect\n",
    "from bs4 import BeautifulSoup\n",
    "from nltk import word_tokenize, sent_tokenize\n",
    "from nltk.corpus import stopwords,wordnet\n",
    "from nltk.stem import LancasterStemmer, WordNetLemmatizer \n",
    "\n",
    "\n",
    "from tensorflow.keras.models import Sequential\n",
    "from tensorflow.keras.layers import Dense\n",
    "from tensorflow.keras.layers import LSTM\n",
    "from tensorflow.keras.layers import Embedding\n",
    "from tensorflow.keras.preprocessing import sequence\n",
    "from tensorflow.keras.utils import to_categorical\n",
    "from tensorflow.keras.preprocessing.sequence import pad_sequences\n",
    "from tensorflow.keras.callbacks import EarlyStopping\n",
    "from tensorflow.keras.callbacks import ModelCheckpoint\n",
    "from tensorflow.keras.layers import Concatenate\n",
    "from tensorflow.keras.callbacks import Callback\n",
    "\n",
    "import tensorflow as tf\n",
    "import gensim\n",
    "\n",
    "from sklearn.metrics import accuracy_score\n",
    "from sklearn.metrics.cluster import normalized_mutual_info_score\n",
    "from sklearn.metrics import cohen_kappa_score"
   ]
  },
  {
   "cell_type": "markdown",
   "metadata": {
    "colab_type": "text",
    "id": "UK6QFGpMiz_H"
   },
   "source": [
    "# Tokenizing preprocessing functions; ripped from https://www.kdnuggets.com/2018/03/text-data-preprocessing-walkthrough-python.html"
   ]
  },
  {
   "cell_type": "code",
   "execution_count": 16,
   "metadata": {
    "colab": {},
    "colab_type": "code",
    "id": "PGhYfDeWiz_I"
   },
   "outputs": [],
   "source": [
    "def strip_html(text):\n",
    "    \"\"\"remove html artifacts\"\"\"\n",
    "    soup = BeautifulSoup(text, \"html.parser\")\n",
    "    return soup.get_text()\n",
    "\n",
    "def remove_between_square_brackets(text):\n",
    "    \"\"\"remove square brackets around things\"\"\"\n",
    "    return re.sub('\\[[^]]*\\]', '', text)\n",
    "\n",
    "def replace_contractions(text):\n",
    "    \"\"\"Replace contractions in string of text\"\"\"\n",
    "    return contractions.fix(text)\n",
    "\n",
    "def remove_non_ascii(words):\n",
    "    \"\"\"Remove non-ASCII characters from list of tokenized words\"\"\"\n",
    "    new_words = []\n",
    "    for word in words:\n",
    "        new_word = unicodedata.normalize('NFKD', word).encode('ascii', 'ignore').decode('utf-8', 'ignore')\n",
    "        new_words.append(new_word)\n",
    "    return new_words\n",
    "\n",
    "def to_lowercase(words):\n",
    "    \"\"\"Convert all characters to lowercase from list of tokenized words, unless word is entirely uppercase\"\"\"\n",
    "    new_words = []\n",
    "    for word in words:\n",
    "        if word != word.upper():\n",
    "            new_word = word.lower()\n",
    "            new_words.append(new_word)\n",
    "        else:\n",
    "            new_words.append(word)\n",
    "    return new_words\n",
    "\n",
    "def remove_punctuation(words):\n",
    "    \"\"\"Remove punctuation from list of tokenized words, unless it is ! or ?\"\"\"\n",
    "    new_words = []\n",
    "    for word in words:\n",
    "        if (word != '!') and (word != '?'):\n",
    "            new_word = re.sub(r'[^\\w\\s]', '', word)\n",
    "        else:\n",
    "            new_word = word\n",
    "        if new_word != '':\n",
    "            new_words.append(new_word)\n",
    "    return new_words\n",
    "\n",
    "def replace_numbers(words):\n",
    "    \"\"\"Replace all interger occurrences in list of tokenized words with textual representation\"\"\"\n",
    "    p = inflect.engine()\n",
    "    new_words = []\n",
    "    for word in words:\n",
    "        if word.isdigit():\n",
    "            new_word = p.number_to_words(word)\n",
    "            new_words.append(new_word)\n",
    "        else:\n",
    "            new_words.append(word)\n",
    "    return new_words\n",
    "\n",
    "def remove_stopwords(words):\n",
    "    \"\"\"Remove stop words from list of tokenized words, except 'no', 'not' \"\"\"\n",
    "    new_words = []\n",
    "    for word in words:\n",
    "        if word not in stopwords.words('english'):\n",
    "            new_words.append(word)                \n",
    "                \n",
    "    return new_words\n",
    "\n",
    "def stem_words(words):\n",
    "    \"\"\"Stem words in list of tokenized words\"\"\"\n",
    "    stemmer = LancasterStemmer()\n",
    "    stems = []\n",
    "    for word in words:\n",
    "        stem = stemmer.stem(word)\n",
    "        stems.append(stem)\n",
    "    return stems\n",
    "\n",
    "def lemmatize_verbs(words):\n",
    "    \"\"\"Lemmatize verbs in list of tokenized words\"\"\"\n",
    "    lemmatizer = WordNetLemmatizer()\n",
    "    lemmas = []\n",
    "    for word in words:\n",
    "        lemma = lemmatizer.lemmatize(word, pos='v')\n",
    "        lemmas.append(lemma)\n",
    "    return lemmas\n",
    "\n",
    "def preprocess_review(text):\n",
    "    \"\"\"Apply some subset of the preprocessing steps\"\"\"\n",
    "    text = strip_html(text)\n",
    "    text = remove_between_square_brackets(text)\n",
    "    text = replace_contractions(text)\n",
    "\n",
    "    words = word_tokenize(text)\n",
    "    words = to_lowercase(words)\n",
    "    words = remove_non_ascii(words)\n",
    "    words = lemmatize_verbs(words)\n",
    "    words = remove_punctuation(words)\n",
    "    return words\n",
    "\n",
    "def get_month(date):\n",
    "    \"\"\"returns month from date\"\"\"\n",
    "    return date.split(' ')[0]\n",
    "\n",
    "def get_year(date):\n",
    "    \"\"\"returns month from date\"\"\"\n",
    "    return date.split(' ')[-1]\n",
    "\n",
    "def sentiment_from_rating(rating):\n",
    "    \"\"\" maps 0-10 rating to Positive (1), Neutral (0), or Negative (-1)\"\"\"\n",
    "    if rating > 6:\n",
    "        return 1\n",
    "    elif rating > 4:\n",
    "        return 0\n",
    "    else:\n",
    "        return -1\n",
    "      \n",
    "def get_synonyms(w):\n",
    "    synonyms = []\n",
    "    for syn in wordnet.synsets(w):\n",
    "        for lm in syn.lemmas():\n",
    "            synonyms.append(lm.name())\n",
    "    return np.unique(synonyms)\n",
    "\n",
    "def num_positive_words(review):\n",
    "    key_words = np.concatenate([get_synonyms('good'),get_synonyms('happy'),get_synonyms('great'),\\\n",
    "                              get_synonyms('satisfied'),get_synonyms('effective'),get_synonyms('normal')])\n",
    "    return sum([Counter(review)[w] for w in lemmatize_verbs(key_words)])\n",
    "\n",
    "def num_negative_words(review):\n",
    "    key_words = np.concatenate([get_synonyms('bad'),get_synonyms('worse'),get_synonyms('horrible'),\\\n",
    "                              get_synonyms('terrible'),get_synonyms('unsatisfied'),get_synonyms('ineffective'),\\\n",
    "                             get_synonyms('weird'),get_synonyms('abnormal')])\n",
    "    return sum([Counter(review)[w] for w in lemmatize_verbs(key_words)]) "
   ]
  },
  {
   "cell_type": "markdown",
   "metadata": {
    "colab_type": "text",
    "id": "SogV-cGtiz_L"
   },
   "source": [
    "# Preprocess by applying tokenizer, isolating year/month from dates, adding sentiment column, and various pieces of metadata about each review. Also maps words to numerical values to use as input for classifiers"
   ]
  },
  {
   "cell_type": "code",
   "execution_count": 19,
   "metadata": {
    "colab": {
     "base_uri": "https://localhost:8080/",
     "height": 524
    },
    "colab_type": "code",
    "id": "WaVsksP5iz_L",
    "outputId": "5c696d20-5580-4c4f-9bc8-bf863a51e89b"
   },
   "outputs": [],
   "source": [
    "train_data = pd.read_csv('../data/raw/drugsComTrain_raw.tsv',sep='\\t')\n",
    "test_data = pd.read_csv('../data/raw/drugsComTest_raw.tsv',sep='\\t')\n",
    "\n",
    "train_data.columns = ['identifier']+list(train_data.columns[1:])\n",
    "train_data['year'] = train_data['date'].apply(get_year)\n",
    "train_data['month'] = train_data['date'].apply(get_month)\n",
    "\n",
    "test_data.columns = ['identifier']+list(test_data.columns[1:])\n",
    "test_data['year'] = test_data['date'].apply(get_year)\n",
    "test_data['month'] = test_data['date'].apply(get_month)\n",
    "\n",
    "cleaned_reviews_train = train_data['review'].apply(preprocess_review)\n",
    "cleaned_reviews_test = test_data['review'].apply(preprocess_review)\n",
    "\n",
    "train_data['cleaned_review'] = cleaned_reviews_train\n",
    "test_data['cleaned_review'] = cleaned_reviews_test\n",
    "\n",
    "train_data['sentiment'] = train_data['rating'].apply(sentiment_from_rating)\n",
    "test_data['sentiment'] = test_data['rating'].apply(sentiment_from_rating)\n",
    "\n",
    "all_words = list(itertools.chain.from_iterable(train_data['cleaned_review'])) \\\n",
    "          + list(itertools.chain.from_iterable(test_data['cleaned_review']))\n",
    "sorted_words = Counter(all_words).most_common()\n",
    "sorted_words = [i[0] for i in sorted_words]\n",
    "word2idx = dict(zip(sorted_words,range(len(sorted_words))))\n",
    "\n",
    "def indexer(words):\n",
    "    \"\"\"\n",
    "    returns indices of words in list of tokenized words based on how common they are\n",
    "    pads rest of vector with zeros so all vectors are the same length \n",
    "    \"\"\"\n",
    "    return [word2idx[word] for word in words]\n",
    "\n",
    "train_data['indexed_tokens'] = train_data['cleaned_review'].apply(indexer)\n",
    "test_data['indexed_tokens'] = test_data['cleaned_review'].apply(indexer)\n",
    "\n",
    "train_data['num_words']=train_data['indexed_tokens'].apply(lambda x: len(x))\n",
    "test_data['num_words']=test_data['indexed_tokens'].apply(lambda x: len(x))\n",
    "\n",
    "train_data['num_exclamations'] = train_data['cleaned_review'].apply(lambda x: Counter(x)['!'])\n",
    "test_data['num_exclamations'] = test_data['cleaned_review'].apply(lambda x: Counter(x)['!'])\n",
    "\n",
    "train_data['num_poses'] = train_data['cleaned_review'].apply(num_positive_words)\n",
    "test_data['num_poses'] = test_data['cleaned_review'].apply(num_positive_words)\n",
    "\n",
    "train_data['num_negs'] = train_data['cleaned_review'].apply(num_negative_words)\n",
    "test_data['num_negs'] = test_data['cleaned_review'].apply(num_negative_words)\n",
    "\n",
    "train_data.to_csv('../data/processed/alec_train.csv')\n",
    "test_data.to_csv('../data/processed/alec_test.csv')"
   ]
  },
  {
   "cell_type": "markdown",
   "metadata": {
    "colab_type": "text",
    "id": "8yQbi4Tmiz_O"
   },
   "source": [
    "# Load cleaned data if it exists. Takes a few minutes"
   ]
  },
  {
   "cell_type": "code",
   "execution_count": 20,
   "metadata": {
    "colab": {},
    "colab_type": "code",
    "id": "K78mNMDHiz_Q"
   },
   "outputs": [],
   "source": [
    "train_data = pd.read_csv('../data/processed/alec_train.csv')\n",
    "train_data = train_data[train_data.columns[1:]]\n",
    "train_data['cleaned_review'] = train_data['cleaned_review'].apply(eval)\n",
    "train_data['indexed_tokens'] = train_data['indexed_tokens'].apply(eval)\n",
    "\n",
    "test_data = pd.read_csv('../data/processed/alec_test.csv')\n",
    "test_data = test_data[test_data.columns[1:]]\n",
    "test_data['cleaned_review'] = test_data['cleaned_review'].apply(eval)\n",
    "test_data['indexed_tokens'] = test_data['indexed_tokens'].apply(eval)"
   ]
  },
  {
   "cell_type": "markdown",
   "metadata": {
    "colab_type": "text",
    "id": "5hw5YGqSiz_S"
   },
   "source": [
    "# Example review with preprocessing"
   ]
  },
  {
   "cell_type": "code",
   "execution_count": 23,
   "metadata": {
    "colab": {
     "base_uri": "https://localhost:8080/",
     "height": 122
    },
    "colab_type": "code",
    "id": "fUnZT3w9iz_T",
    "outputId": "9c1dd920-5473-43d1-8a39-6f800535f52f"
   },
   "outputs": [
    {
     "name": "stdout",
     "output_type": "stream",
     "text": [
      "Raw review:  \"This drug worked very well for me and cleared up my UTI in a matter of 48hrs, although I was on a 7 day course of 2x200mg/daily. Unfortunately once the tablets finished the infection returned so needed a 2nd course. I&#039;m currently taking a low dose at evening to keep the infection at bay while the specialists do some tests.  I normally get every side effect going and dread taking new medication in any form especially after an horrific experience with Ciorofloxacin but the only side effect I experienced with this was itchy ankles and feet on day two but that didn&#039;t last into third day so I would class this as a minor side effect and insignificant. Good luck.\"\n",
      "\n",
      "Cleaned, tokenized review:  ['this', 'drug', 'work', 'very', 'well', 'for', 'me', 'and', 'clear', 'up', 'my', 'UTI', 'in', 'a', 'matter', 'of', '48hrs', 'although', 'I', 'be', 'on', 'a', '7', 'day', 'course', 'of', '2x200mgdaily', 'unfortunately', 'once', 'the', 'tablets', 'finish', 'the', 'infection', 'return', 'so', 'need', 'a', '2nd', 'course', 'I', 'be', 'currently', 'take', 'a', 'low', 'dose', 'at', 'even', 'to', 'keep', 'the', 'infection', 'at', 'bay', 'while', 'the', 'specialists', 'do', 'some', 'test', 'I', 'normally', 'get', 'every', 'side', 'effect', 'go', 'and', 'dread', 'take', 'new', 'medication', 'in', 'any', 'form', 'especially', 'after', 'an', 'horrific', 'experience', 'with', 'ciorofloxacin', 'but', 'the', 'only', 'side', 'effect', 'I', 'experience', 'with', 'this', 'be', 'itchy', 'ankles', 'and', 'feet', 'on', 'day', 'two', 'but', 'that', 'do', 'not', 'last', 'into', 'third', 'day', 'so', 'I', 'would', 'class', 'this', 'as', 'a', 'minor', 'side', 'effect', 'and', 'insignificant', 'good', 'luck']\n",
      "\n",
      "Numerical representation of review:  [14, 118, 27, 51, 111, 9, 18, 2, 196, 46, 7, 919, 15, 8, 790, 11, 7260, 405, 0, 1, 12, 8, 259, 32, 576, 11, 55206, 642, 192, 4, 661, 508, 4, 313, 571, 23, 151, 8, 579, 576, 0, 1, 560, 13, 8, 303, 120, 25, 106, 5, 168, 4, 313, 25, 2529, 172, 4, 4145, 16, 94, 379, 0, 637, 22, 112, 35, 33, 24, 2, 1864, 13, 267, 74, 15, 91, 549, 569, 26, 81, 1627, 83, 20, 55207, 17, 4, 45, 35, 33, 0, 83, 20, 14, 1, 795, 1738, 2, 599, 12, 32, 105, 17, 19, 16, 10, 101, 249, 529, 32, 23, 0, 47, 1206, 14, 29, 8, 646, 35, 33, 2, 6482, 113, 561]\n"
     ]
    }
   ],
   "source": [
    "print(\"Raw review: \",train_data['review'][16])\n",
    "print()\n",
    "print(\"Cleaned, tokenized review: \",train_data['cleaned_review'][16])\n",
    "print()\n",
    "print(\"Numerical representation of review: \",train_data['indexed_tokens'][16])"
   ]
  },
  {
   "cell_type": "markdown",
   "metadata": {
    "colab_type": "text",
    "id": "RwRL-ym5iz_X"
   },
   "source": [
    "# Define Callback subclass to dynamically plot the loss and accuracy to check for over/underfitting during LSTM training"
   ]
  },
  {
   "cell_type": "code",
   "execution_count": 24,
   "metadata": {
    "colab": {},
    "colab_type": "code",
    "id": "1CEdHCtQiz_Y"
   },
   "outputs": [],
   "source": [
    "class PlotLearning(Callback):\n",
    "    def on_train_begin(self, logs={}):\n",
    "        self.i = 0\n",
    "        self.x = []\n",
    "        self.losses = []\n",
    "        self.val_losses = []\n",
    "        self.acc = []\n",
    "        self.val_acc = []\n",
    "        self.fig = plt.figure()\n",
    "        \n",
    "        self.logs = []\n",
    "\n",
    "    def on_epoch_end(self, epoch, logs={}):\n",
    "        self.logs.append(logs)\n",
    "        self.x.append(self.i)\n",
    "        self.losses.append(logs.get('loss'))\n",
    "        self.val_losses.append(logs.get('val_loss'))\n",
    "        self.acc.append(logs.get('acc'))\n",
    "        self.val_acc.append(logs.get('val_acc'))\n",
    "        self.i += 1\n",
    "        f, (ax1, ax2) = plt.subplots(1, 2, sharex=True)\n",
    "        \n",
    "        clear_output(wait=True)\n",
    "        \n",
    "        ax1.set_yscale('log')\n",
    "        ax1.plot(self.x, self.losses, label=\"training loss\")\n",
    "        ax1.plot(self.x, self.val_losses, label=\"validation loss\")\n",
    "        ax1.legend()\n",
    "        \n",
    "        ax2.plot(self.x, self.acc, label=\"training accuracy\")\n",
    "        ax2.plot(self.x, self.val_acc, label=\"validation accuracy\")\n",
    "        ax2.legend()\n",
    "        \n",
    "        plt.show();\n",
    "        \n",
    "plot_learning = PlotLearning()"
   ]
  },
  {
   "cell_type": "markdown",
   "metadata": {
    "colab_type": "text",
    "id": "UMlbtCgViz_a"
   },
   "source": [
    "# Train LSTM network to predict sentiment from review text"
   ]
  },
  {
   "cell_type": "code",
   "execution_count": 25,
   "metadata": {
    "colab": {
     "base_uri": "https://localhost:8080/",
     "height": 425
    },
    "colab_type": "code",
    "id": "ue6Bv6G-iz_a",
    "outputId": "86b14532-a20a-4ba2-a7a4-25961fcfd1d9"
   },
   "outputs": [
    {
     "data": {
      "image/png": "[encoded data removed]",
      "text/plain": [
       "<Figure size 432x288 with 2 Axes>"
      ]
     },
     "metadata": {
      "needs_background": "light"
     },
     "output_type": "display_data"
    },
    {
     "name": "stdout",
     "output_type": "stream",
     "text": [
      "161297/161297 [==============================] - 251s 2ms/sample - loss: 0.5877 - acc: 0.7823 - val_loss: 0.5655 - val_acc: 0.7940\n",
      "Epoch 3/100\n",
      "  2300/161297 [..............................] - ETA: 3:53 - loss: 0.5248 - acc: 0.8183"
     ]
    },
    {
     "name": "stderr",
     "output_type": "stream",
     "text": [
      "ERROR:root:Internal Python error in the inspect module.\n",
      "Below is the traceback from this internal error.\n",
      "\n"
     ]
    },
    {
     "name": "stdout",
     "output_type": "stream",
     "text": [
      "Traceback (most recent call last):\n",
      "  File \"/Users/aleckirkley/anaconda/envs/drugreviews/lib/python3.7/site-packages/IPython/core/interactiveshell.py\", line 3296, in run_code\n",
      "    exec(code_obj, self.user_global_ns, self.user_ns)\n",
      "  File \"<ipython-input-25-f94f1baa2881>\", line 35, in <module>\n",
      "    batch_size=batch_size,validation_data=(X_test_LSTM, y_test),callbacks=[plot_learning])#,es])\n",
      "  File \"/Users/aleckirkley/anaconda/envs/drugreviews/lib/python3.7/site-packages/tensorflow/python/keras/engine/training.py\", line 880, in fit\n",
      "    validation_steps=validation_steps)\n",
      "  File \"/Users/aleckirkley/anaconda/envs/drugreviews/lib/python3.7/site-packages/tensorflow/python/keras/engine/training_arrays.py\", line 329, in model_iteration\n",
      "    batch_outs = f(ins_batch)\n",
      "  File \"/Users/aleckirkley/anaconda/envs/drugreviews/lib/python3.7/site-packages/tensorflow/python/keras/backend.py\", line 3076, in __call__\n",
      "    run_metadata=self.run_metadata)\n",
      "  File \"/Users/aleckirkley/anaconda/envs/drugreviews/lib/python3.7/site-packages/tensorflow/python/client/session.py\", line 1439, in __call__\n",
      "    run_metadata_ptr)\n",
      "KeyboardInterrupt\n",
      "\n",
      "During handling of the above exception, another exception occurred:\n",
      "\n",
      "Traceback (most recent call last):\n",
      "  File \"/Users/aleckirkley/anaconda/envs/drugreviews/lib/python3.7/site-packages/IPython/core/interactiveshell.py\", line 2033, in showtraceback\n",
      "    stb = value._render_traceback_()\n",
      "AttributeError: 'KeyboardInterrupt' object has no attribute '_render_traceback_'\n",
      "\n",
      "During handling of the above exception, another exception occurred:\n",
      "\n",
      "Traceback (most recent call last):\n",
      "  File \"/Users/aleckirkley/anaconda/envs/drugreviews/lib/python3.7/site-packages/IPython/core/ultratb.py\", line 1095, in get_records\n",
      "    return _fixed_getinnerframes(etb, number_of_lines_of_context, tb_offset)\n",
      "  File \"/Users/aleckirkley/anaconda/envs/drugreviews/lib/python3.7/site-packages/IPython/core/ultratb.py\", line 313, in wrapped\n",
      "    return f(*args, **kwargs)\n",
      "  File \"/Users/aleckirkley/anaconda/envs/drugreviews/lib/python3.7/site-packages/IPython/core/ultratb.py\", line 347, in _fixed_getinnerframes\n",
      "    records = fix_frame_records_filenames(inspect.getinnerframes(etb, context))\n",
      "  File \"/Users/aleckirkley/anaconda/envs/drugreviews/lib/python3.7/inspect.py\", line 1502, in getinnerframes\n",
      "    frameinfo = (tb.tb_frame,) + getframeinfo(tb, context)\n",
      "  File \"/Users/aleckirkley/anaconda/envs/drugreviews/lib/python3.7/inspect.py\", line 1460, in getframeinfo\n",
      "    filename = getsourcefile(frame) or getfile(frame)\n",
      "  File \"/Users/aleckirkley/anaconda/envs/drugreviews/lib/python3.7/inspect.py\", line 696, in getsourcefile\n",
      "    if getattr(getmodule(object, filename), '__loader__', None) is not None:\n",
      "  File \"/Users/aleckirkley/anaconda/envs/drugreviews/lib/python3.7/inspect.py\", line 739, in getmodule\n",
      "    f = getabsfile(module)\n",
      "  File \"/Users/aleckirkley/anaconda/envs/drugreviews/lib/python3.7/inspect.py\", line 708, in getabsfile\n",
      "    _filename = getsourcefile(object) or getfile(object)\n",
      "  File \"/Users/aleckirkley/anaconda/envs/drugreviews/lib/python3.7/inspect.py\", line 693, in getsourcefile\n",
      "    if os.path.exists(filename):\n",
      "  File \"/Users/aleckirkley/anaconda/envs/drugreviews/lib/python3.7/genericpath.py\", line 19, in exists\n",
      "    os.stat(path)\n",
      "KeyboardInterrupt\n"
     ]
    },
    {
     "ename": "KeyboardInterrupt",
     "evalue": "",
     "output_type": "error",
     "traceback": [
      "\u001b[0;31m---------------------------------------------------------------------------\u001b[0m"
     ]
    }
   ],
   "source": [
    "tokenized_vec_length = 150 \n",
    "embedding_vector_length_LSTM = 16\n",
    "\n",
    "X_train_LSTM,X_test_LSTM = pad_sequences(train_data['indexed_tokens'], maxlen=tokenized_vec_length, truncating='post'), \\\n",
    "                 pad_sequences(test_data['indexed_tokens'], maxlen=tokenized_vec_length, truncating='post')\n",
    "y_train,y_test = np.array(train_data['sentiment'])+1., np.array(test_data['sentiment'])+1.\n",
    "y_train = to_categorical(y_train)\n",
    "y_test = to_categorical(y_test)\n",
    "\n",
    "n_words = np.max(np.concatenate([X_train_LSTM,X_test_LSTM]).flatten())+1\n",
    "LSTM_model = Sequential()\n",
    "LSTM_model.add(Embedding(n_words, embedding_vector_length_LSTM, input_length=tokenized_vec_length))\n",
    "LSTM_model.add(LSTM(3,dropout=0.4, recurrent_dropout=0.2))\n",
    "LSTM_model.add(Dense(3, activation='softmax'))\n",
    "n_epochs,batch_size = 100,100\n",
    "\n",
    "SAVE_LSTM_MODEL = False\n",
    "\n",
    "if SAVE_LSTM_MODEL:\n",
    "    np.random.seed(7)\n",
    "    checkpoint_path_LSTM = \"/content/drive/My Drive/MDST/text_models/LSTM_model_drugs.ckpt\"\n",
    "    checkpoint_dir_LSTM = os.path.dirname(checkpoint_path_LSTM)\n",
    "    cp_callback_LSTM = tf.keras.callbacks.ModelCheckpoint(checkpoint_path_LSTM,\n",
    "                                                   save_weights_only=True,\n",
    "                                                   verbose=1)\n",
    "    LSTM_model.compile(loss='categorical_crossentropy', optimizer='adam', metrics=['accuracy'])\n",
    "    history_LSTM = LSTM_model.fit(X_train_LSTM, y_train,\n",
    "            epochs=n_epochs,\n",
    "            batch_size=batch_size,validation_data=(X_test_LSTM, y_test),callbacks=[plot_learning,cp_callback_LSTM])#,es])\n",
    "else:\n",
    "    np.random.seed(7)\n",
    "    LSTM_model.compile(loss='categorical_crossentropy', optimizer='adam', metrics=['accuracy'])\n",
    "    history_LSTM = LSTM_model.fit(X_train_LSTM, y_train,\n",
    "            epochs=n_epochs,\n",
    "            batch_size=batch_size,validation_data=(X_test_LSTM, y_test),callbacks=[plot_learning])#,es])\n"
   ]
  },
  {
   "cell_type": "markdown",
   "metadata": {
    "colab_type": "text",
    "id": "IIMwhyNB3Yvt"
   },
   "source": [
    "# Train metadata classifier to predict sentiment"
   ]
  },
  {
   "cell_type": "code",
   "execution_count": 26,
   "metadata": {
    "colab": {},
    "colab_type": "code",
    "id": "UfQUhWzT2hzi"
   },
   "outputs": [],
   "source": [
    "train_metadata = train_data[['drugName','condition','usefulCount','year','month','num_words']].copy()\n",
    "test_metadata = test_data[['drugName','condition','usefulCount','year','month','num_words']].copy()\n",
    "all_metadata = pd.concat([train_metadata,test_metadata]).reset_index()\n",
    "usefulCount_cutoffs = [np.percentile(all_metadata['usefulCount'],k) for k in np.arange(0,100,10)]\n",
    "num_words_cutoffs = [np.percentile(all_metadata['num_words'],k) for k in np.arange(0,100,10)]\n",
    "all_metadata['usefulCount'] = np.digitize(all_metadata['usefulCount'],usefulCount_cutoffs)-1\n",
    "all_metadata['num_words'] = np.digitize(all_metadata['num_words'],num_words_cutoffs)-1\n",
    "all_metadata['drugName'] = pd.factorize(all_metadata['drugName'])[0]\n",
    "all_metadata['condition'] = pd.factorize(all_metadata['condition'])[0]+1\n",
    "all_metadata['year'] = pd.factorize(all_metadata['year'])[0]\n",
    "all_metadata['month'] = pd.factorize(all_metadata['month'])[0]"
   ]
  },
  {
   "cell_type": "code",
   "execution_count": 27,
   "metadata": {
    "colab": {
     "base_uri": "https://localhost:8080/",
     "height": 524
    },
    "colab_type": "code",
    "id": "Y__tucIPfBC2",
    "outputId": "f7e2dc0a-80cb-4b16-8f54-760e82b9948f"
   },
   "outputs": [
    {
     "name": "stderr",
     "output_type": "stream",
     "text": [
      "/Users/aleckirkley/anaconda/envs/drugreviews/lib/python3.7/site-packages/ipykernel_launcher.py:2: FutureWarning: Method .as_matrix will be removed in a future version. Use .values instead.\n",
      "  \n",
      "/Users/aleckirkley/anaconda/envs/drugreviews/lib/python3.7/site-packages/ipykernel_launcher.py:3: FutureWarning: Method .as_matrix will be removed in a future version. Use .values instead.\n",
      "  This is separate from the ipykernel package so we can avoid doing imports until\n"
     ]
    }
   ],
   "source": [
    "all_reviews = pd.concat([train_data['cleaned_review'],test_data['cleaned_review']]).reset_index()\n",
    "X_train_meta,X_test_meta = all_metadata[:len(train_metadata)].as_matrix()[:,1:],\\\n",
    "                           all_metadata[len(train_metadata):].as_matrix()[:,1:]"
   ]
  },
  {
   "cell_type": "code",
   "execution_count": null,
   "metadata": {
    "colab": {
     "base_uri": "https://localhost:8080/",
     "height": 232
    },
    "colab_type": "code",
    "id": "ZFG0tzuG3qXk",
    "outputId": "0876ae6f-a905-4cf1-8c4d-14abe51a0de5"
   },
   "outputs": [
    {
     "ename": "NameError",
     "evalue": "ignored",
     "output_type": "error",
     "traceback": [
      "\u001b[0;31m---------------------------------------------------------------------------\u001b[0m",
      "\u001b[0;31mNameError\u001b[0m                                 Traceback (most recent call last)",
      "\u001b[0;32m<ipython-input-10-97244a62666e>\u001b[0m in \u001b[0;36m<module>\u001b[0;34m()\u001b[0m\n\u001b[1;32m      1\u001b[0m \u001b[0membedding_vector_length_meta\u001b[0m \u001b[0;34m=\u001b[0m \u001b[0;36m20\u001b[0m\u001b[0;34m\u001b[0m\u001b[0;34m\u001b[0m\u001b[0m\n\u001b[1;32m      2\u001b[0m \u001b[0;34m\u001b[0m\u001b[0m\n\u001b[0;32m----> 3\u001b[0;31m \u001b[0mn_cats\u001b[0m \u001b[0;34m=\u001b[0m \u001b[0mnp\u001b[0m\u001b[0;34m.\u001b[0m\u001b[0mmax\u001b[0m\u001b[0;34m(\u001b[0m\u001b[0mnp\u001b[0m\u001b[0;34m.\u001b[0m\u001b[0mconcatenate\u001b[0m\u001b[0;34m(\u001b[0m\u001b[0;34m[\u001b[0m\u001b[0mX_train_meta\u001b[0m\u001b[0;34m,\u001b[0m\u001b[0mX_test_meta\u001b[0m\u001b[0;34m]\u001b[0m\u001b[0;34m)\u001b[0m\u001b[0;34m.\u001b[0m\u001b[0mflatten\u001b[0m\u001b[0;34m(\u001b[0m\u001b[0;34m)\u001b[0m\u001b[0;34m)\u001b[0m\u001b[0;34m+\u001b[0m\u001b[0;36m1\u001b[0m\u001b[0;34m\u001b[0m\u001b[0;34m\u001b[0m\u001b[0m\n\u001b[0m\u001b[1;32m      4\u001b[0m \u001b[0mmeta_model\u001b[0m \u001b[0;34m=\u001b[0m \u001b[0mSequential\u001b[0m\u001b[0;34m(\u001b[0m\u001b[0;34m)\u001b[0m\u001b[0;34m\u001b[0m\u001b[0;34m\u001b[0m\u001b[0m\n\u001b[1;32m      5\u001b[0m \u001b[0mmeta_model\u001b[0m\u001b[0;34m.\u001b[0m\u001b[0madd\u001b[0m\u001b[0;34m(\u001b[0m\u001b[0mEmbedding\u001b[0m\u001b[0;34m(\u001b[0m\u001b[0mn_cats\u001b[0m\u001b[0;34m,\u001b[0m \u001b[0membedding_vector_length_meta\u001b[0m\u001b[0;34m,\u001b[0m \u001b[0minput_length\u001b[0m\u001b[0;34m=\u001b[0m\u001b[0mlen\u001b[0m\u001b[0;34m(\u001b[0m\u001b[0mX_train_meta\u001b[0m\u001b[0;34m[\u001b[0m\u001b[0;36m0\u001b[0m\u001b[0;34m]\u001b[0m\u001b[0;34m)\u001b[0m\u001b[0;34m)\u001b[0m\u001b[0;34m)\u001b[0m\u001b[0;34m\u001b[0m\u001b[0;34m\u001b[0m\u001b[0m\n",
      "\u001b[0;31mNameError\u001b[0m: name 'X_train_meta' is not defined"
     ]
    }
   ],
   "source": [
    "embedding_vector_length_meta = 20\n",
    "\n",
    "n_cats = np.max(np.concatenate([X_train_meta,X_test_meta]).flatten())+1\n",
    "meta_model = Sequential()\n",
    "meta_model.add(Embedding(n_cats, embedding_vector_length_meta, input_length=len(X_train_meta[0])))\n",
    "meta_model.add(LSTM(1))\n",
    "meta_model.add(Dense(3, activation='softmax'))\n",
    "\n",
    "SAVE_META_MODEL = False\n",
    "\n",
    "if SAVE_META_MODEL:\n",
    "  np.random.seed(7)\n",
    "  checkpoint_path_meta = \"/content/drive/My Drive/MDST/meta_models/meta_model_drugs.ckpt\"\n",
    "  checkpoint_dir_meta = os.path.dirname(checkpoint_path_meta)\n",
    "  cp_callback_meta = tf.keras.callbacks.ModelCheckpoint(checkpoint_path_meta,\n",
    "                                                   save_weights_only=True,\n",
    "                                                   verbose=1)\n",
    "  meta_model.compile(loss='categorical_crossentropy', optimizer='adam', metrics=['accuracy'])\n",
    "  history_meta = meta_model.fit(X_train_meta, y_train,\n",
    "            epochs=1000,\n",
    "            batch_size=1000,\n",
    "            validation_data=(X_test_meta, y_test),callbacks=[plot_learning,cp_callback_meta])#,es])\n",
    "  \n",
    "else:\n",
    "  np.random.seed(7)\n",
    "  meta_model.compile(loss='categorical_crossentropy', optimizer='adam', metrics=['accuracy'])\n",
    "  history_meta = meta_model.fit(X_train_meta, y_train,\n",
    "            epochs=1000,\n",
    "            batch_size=1000,\n",
    "            validation_data=(X_test_meta, y_test),callbacks=[plot_learning])#,es])\n",
    "  "
   ]
  },
  {
   "cell_type": "markdown",
   "metadata": {
    "colab_type": "text",
    "id": "n8iuo1fu3ObB"
   },
   "source": [
    "# Load trained models"
   ]
  },
  {
   "cell_type": "code",
   "execution_count": null,
   "metadata": {
    "colab": {
     "base_uri": "https://localhost:8080/",
     "height": 34
    },
    "colab_type": "code",
    "id": "JmViLtmCf8uQ",
    "outputId": "34350729-6973-4a39-9fc7-ad2b7d38fa1e"
   },
   "outputs": [
    {
     "data": {
      "text/plain": [
       "<tensorflow.python.training.checkpointable.util.CheckpointLoadStatus at 0x7f6c9b7c1e10>"
      ]
     },
     "execution_count": 36,
     "metadata": {
      "tags": []
     },
     "output_type": "execute_result"
    }
   ],
   "source": [
    "#Review text model\n",
    "# tokenized_vec_length = 150 \n",
    "# embedding_vector_length_LSTM = 16\n",
    "\n",
    "# X_train_LSTM,X_test_LSTM = pad_sequences(train_data['indexed_tokens'], maxlen=tokenized_vec_length, truncating='post'), \\\n",
    "#                  pad_sequences(test_data['indexed_tokens'], maxlen=tokenized_vec_length, truncating='post')\n",
    "# y_train,y_test = np.array(train_data['sentiment'])+1., np.array(test_data['sentiment'])+1.\n",
    "# y_train = to_categorical(y_train)\n",
    "# y_test = to_categorical(y_test)\n",
    "\n",
    "# n_words = np.max(np.concatenate([X_train_LSTM,X_test_LSTM]).flatten())+1\n",
    "# LSTM_model = Sequential()\n",
    "# LSTM_model.add(Embedding(n_words, embedding_vector_length_LSTM, input_length=tokenized_vec_length))\n",
    "# LSTM_model.add(LSTM(10,dropout=0.2, recurrent_dropout=0.2))\n",
    "# LSTM_model.add(Dense(3, activation='softmax'))\n",
    "\n",
    "# checkpoint_path_LSTM = \"text_models/LSTM_model_drugs.ckpt\"\n",
    "# checkpoint_dir_LSTM = os.path.dirname(checkpoint_path_LSTM)\n",
    "# cp_callback_LSTM = tf.keras.callbacks.ModelCheckpoint(checkpoint_path_LSTM,\n",
    "#                                                  save_weights_only=True,\n",
    "#                                                  verbose=1)\n",
    "\n",
    "# LSTM_model.load_weights(checkpoint_path_LSTM)\n",
    "\n",
    "\n",
    "#metadata model\n",
    "# embedding_vector_length_meta = 20\n",
    "\n",
    "# n_cats = np.max(np.concatenate([X_train_meta,X_test_meta]).flatten())+1\n",
    "# meta_model = Sequential()\n",
    "# meta_model.add(Embedding(n_cats, embedding_vector_length_meta, input_length=len(X_train_meta[0])))\n",
    "# meta_model.add(LSTM(1))\n",
    "# meta_model.add(Dense(3, activation='softmax'))\n",
    "\n",
    "# checkpoint_path_meta = \"meta_models/meta_model_drugs.ckpt\"\n",
    "# checkpoint_dir_meta = os.path.dirname(checkpoint_path_meta)\n",
    "# cp_callback_meta = tf.keras.callbacks.ModelCheckpoint(checkpoint_path_meta,\n",
    "#                                                  save_weights_only=True,\n",
    "#                                                  verbose=1)\n",
    "\n",
    "meta_model.load_weights(checkpoint_path_meta)"
   ]
  },
  {
   "cell_type": "markdown",
   "metadata": {
    "colab_type": "text",
    "id": "8T8RPnTof-c5"
   },
   "source": [
    "# Evaluate ensemble model accuracy, NMI, and Kappa score"
   ]
  },
  {
   "cell_type": "code",
   "execution_count": null,
   "metadata": {
    "colab": {
     "base_uri": "https://localhost:8080/",
     "height": 71
    },
    "colab_type": "code",
    "id": "uhuFFFfViz_d",
    "outputId": "9a912bf8-2a60-451a-8bdd-ff5ab05d2597"
   },
   "outputs": [
    {
     "name": "stderr",
     "output_type": "stream",
     "text": [
      "/usr/local/lib/python3.6/dist-packages/sklearn/metrics/cluster/supervised.py:844: FutureWarning: The behavior of NMI will change in version 0.22. To match the behavior of 'v_measure_score', NMI will use average_method='arithmetic' by default.\n",
      "  FutureWarning)\n"
     ]
    }
   ],
   "source": [
    "LSTM_class_probs = LSTM_model.predict(X_test_LSTM)\n",
    "metadata_class_probs = meta_model.predict(X_test_meta)\n",
    "r = 1. #fraction of sentiment guess weight allocated to LSTM model versus metadata model\n",
    "predictions = np.array([np.argmax(LSTM_class_probs[i]*r+metadata_class_probs[i]*(1.-r))\\\n",
    "                         for i in range(LSTM_class_probs.shape[0])])\n",
    "true_labels = np.array([np.argmax(i) for i in y_test])\n",
    "\n",
    "accuracy = accuracy_score(true_labels,predictions)\n",
    "NMI = normalized_mutual_info_score(true_labels,predictions)\n",
    "Kappa = cohen_kappa_score(true_labels,predictions)"
   ]
  },
  {
   "cell_type": "code",
   "execution_count": null,
   "metadata": {
    "colab": {},
    "colab_type": "code",
    "id": "a2Dz2_qZ9wVg"
   },
   "outputs": [],
   "source": []
  }
 ],
 "metadata": {
  "colab": {
   "collapsed_sections": [],
   "name": "mdst_drug_reviews.ipynb",
   "provenance": [],
   "toc_visible": true,
   "version": "0.3.2"
  },
  "kernelspec": {
   "display_name": "Python 3",
   "language": "python",
   "name": "python3"
  },
  "language_info": {
   "codemirror_mode": {
    "name": "ipython",
    "version": 3
   },
   "file_extension": ".py",
   "mimetype": "text/x-python",
   "name": "python",
   "nbconvert_exporter": "python",
   "pygments_lexer": "ipython3",
   "version": "3.7.3"
  }
 },
 "nbformat": 4,
 "nbformat_minor": 2
}
