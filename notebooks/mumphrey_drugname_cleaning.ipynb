{
 "cells": [
  {
   "cell_type": "code",
   "execution_count": 1,
   "metadata": {},
   "outputs": [],
   "source": [
    "import pandas as pd"
   ]
  },
  {
   "cell_type": "markdown",
   "metadata": {},
   "source": [
    "We have three databases: drugs.com reviews, FDA adverse events (FAERS), and National Average Drug Acquisition Costs (NADAC). We would like to be able to consistently pull records from all three databases, but they report drug names differently, and sometimes even within a single database the drug names are listed differently. We would like to create a \"clean\" column that links each database based on a simplified drug name. Since brand names for a drug can differ, we will focus on the active ingredient for a drug."
   ]
  },
  {
   "cell_type": "code",
   "execution_count": 62,
   "metadata": {},
   "outputs": [],
   "source": [
    "faers = pd.read_csv('../data/raw/DRUG18Q4.txt', sep='$')"
   ]
  },
  {
   "cell_type": "code",
   "execution_count": null,
   "metadata": {},
   "outputs": [],
   "source": [
    "nadac = pd.read_csv('../data/raw/NADAC__National_Average_Drug_Acquisition_Cost_.csv')"
   ]
  },
  {
   "cell_type": "code",
   "execution_count": null,
   "metadata": {},
   "outputs": [],
   "source": [
    "drugscom = df = pd.read_csv('../data/raw/drugsComTest_raw.tsv', sep=\"\\t\")"
   ]
  },
  {
   "cell_type": "markdown",
   "metadata": {},
   "source": [
    "Since the FAERS database has a curated list of active ingredients, we can use it to generate an intial list of potential keys. There are many active ingredients fields containing hard to parse information, as well as just being NaN, so we can cut those out."
   ]
  },
  {
   "cell_type": "code",
   "execution_count": 143,
   "metadata": {},
   "outputs": [
    {
     "data": {
      "text/html": [
       "<div>\n",
       "<style scoped>\n",
       "    .dataframe tbody tr th:only-of-type {\n",
       "        vertical-align: middle;\n",
       "    }\n",
       "\n",
       "    .dataframe tbody tr th {\n",
       "        vertical-align: top;\n",
       "    }\n",
       "\n",
       "    .dataframe thead th {\n",
       "        text-align: right;\n",
       "    }\n",
       "</style>\n",
       "<table border=\"1\" class=\"dataframe\">\n",
       "  <thead>\n",
       "    <tr style=\"text-align: right;\">\n",
       "      <th></th>\n",
       "      <th>primaryid</th>\n",
       "      <th>caseid</th>\n",
       "      <th>drug_seq</th>\n",
       "      <th>role_cod</th>\n",
       "      <th>drugname</th>\n",
       "      <th>prod_ai</th>\n",
       "      <th>val_vbm</th>\n",
       "      <th>route</th>\n",
       "      <th>dose_vbm</th>\n",
       "      <th>cum_dose_chr</th>\n",
       "      <th>cum_dose_unit</th>\n",
       "      <th>dechal</th>\n",
       "      <th>rechal</th>\n",
       "      <th>lot_num</th>\n",
       "      <th>exp_dt</th>\n",
       "      <th>nda_num</th>\n",
       "      <th>dose_amt</th>\n",
       "      <th>dose_unit</th>\n",
       "      <th>dose_form</th>\n",
       "      <th>dose_freq</th>\n",
       "    </tr>\n",
       "  </thead>\n",
       "  <tbody>\n",
       "    <tr>\n",
       "      <th>0</th>\n",
       "      <td>100035916</td>\n",
       "      <td>10003591</td>\n",
       "      <td>1</td>\n",
       "      <td>PS</td>\n",
       "      <td>GILENYA</td>\n",
       "      <td>FINGOLIMOD HYDROCHLORIDE</td>\n",
       "      <td>1</td>\n",
       "      <td>Oral</td>\n",
       "      <td>QD</td>\n",
       "      <td>NaN</td>\n",
       "      <td>NaN</td>\n",
       "      <td>NaN</td>\n",
       "      <td>NaN</td>\n",
       "      <td>NaN</td>\n",
       "      <td>NaN</td>\n",
       "      <td>22527.0</td>\n",
       "      <td>NaN</td>\n",
       "      <td>NaN</td>\n",
       "      <td>CAPSULE</td>\n",
       "      <td>QD</td>\n",
       "    </tr>\n",
       "    <tr>\n",
       "      <th>1</th>\n",
       "      <td>100050413</td>\n",
       "      <td>10005041</td>\n",
       "      <td>1</td>\n",
       "      <td>PS</td>\n",
       "      <td>PLAN B ONE-STEP</td>\n",
       "      <td>LEVONORGESTREL</td>\n",
       "      <td>1</td>\n",
       "      <td>Oral</td>\n",
       "      <td>1.5 MILLIGRAM DAILY;</td>\n",
       "      <td>NaN</td>\n",
       "      <td>NaN</td>\n",
       "      <td>D</td>\n",
       "      <td>NaN</td>\n",
       "      <td>NaN</td>\n",
       "      <td>NaN</td>\n",
       "      <td>21998.0</td>\n",
       "      <td>1.5</td>\n",
       "      <td>MG</td>\n",
       "      <td>TABLET</td>\n",
       "      <td>QD</td>\n",
       "    </tr>\n",
       "    <tr>\n",
       "      <th>2</th>\n",
       "      <td>1000551312</td>\n",
       "      <td>10005513</td>\n",
       "      <td>1</td>\n",
       "      <td>PS</td>\n",
       "      <td>ENBREL</td>\n",
       "      <td>ETANERCEPT</td>\n",
       "      <td>1</td>\n",
       "      <td>Subcutaneous</td>\n",
       "      <td>50 MG, ONCE WEEKLY</td>\n",
       "      <td>50.0</td>\n",
       "      <td>MG</td>\n",
       "      <td>U</td>\n",
       "      <td>NaN</td>\n",
       "      <td>G79072</td>\n",
       "      <td>NaN</td>\n",
       "      <td>103795.0</td>\n",
       "      <td>50.0</td>\n",
       "      <td>MG</td>\n",
       "      <td>SOLUTION FOR INJECTION IN PRE-FILLED SYRINGE</td>\n",
       "      <td>/wk</td>\n",
       "    </tr>\n",
       "    <tr>\n",
       "      <th>3</th>\n",
       "      <td>1000551312</td>\n",
       "      <td>10005513</td>\n",
       "      <td>2</td>\n",
       "      <td>SS</td>\n",
       "      <td>ENBREL</td>\n",
       "      <td>ETANERCEPT</td>\n",
       "      <td>1</td>\n",
       "      <td>Unknown</td>\n",
       "      <td>50 MG, ONCE WEEKLY (EVERY THURSDAY)</td>\n",
       "      <td>50.0</td>\n",
       "      <td>MG</td>\n",
       "      <td>U</td>\n",
       "      <td>NaN</td>\n",
       "      <td>S77448</td>\n",
       "      <td>NaN</td>\n",
       "      <td>103795.0</td>\n",
       "      <td>50.0</td>\n",
       "      <td>MG</td>\n",
       "      <td>SOLUTION FOR INJECTION IN PRE-FILLED SYRINGE</td>\n",
       "      <td>/wk</td>\n",
       "    </tr>\n",
       "    <tr>\n",
       "      <th>4</th>\n",
       "      <td>1000551312</td>\n",
       "      <td>10005513</td>\n",
       "      <td>3</td>\n",
       "      <td>SS</td>\n",
       "      <td>ENBREL</td>\n",
       "      <td>ETANERCEPT</td>\n",
       "      <td>1</td>\n",
       "      <td>Unknown</td>\n",
       "      <td>1 DF, WEEKLY</td>\n",
       "      <td>50.0</td>\n",
       "      <td>MG</td>\n",
       "      <td>U</td>\n",
       "      <td>NaN</td>\n",
       "      <td>NaN</td>\n",
       "      <td>NaN</td>\n",
       "      <td>103795.0</td>\n",
       "      <td>1.0</td>\n",
       "      <td>DF</td>\n",
       "      <td>SOLUTION FOR INJECTION IN PRE-FILLED SYRINGE</td>\n",
       "      <td>/wk</td>\n",
       "    </tr>\n",
       "  </tbody>\n",
       "</table>\n",
       "</div>"
      ],
      "text/plain": [
       "    primaryid    caseid  drug_seq role_cod         drugname  \\\n",
       "0   100035916  10003591         1       PS          GILENYA   \n",
       "1   100050413  10005041         1       PS  PLAN B ONE-STEP   \n",
       "2  1000551312  10005513         1       PS           ENBREL   \n",
       "3  1000551312  10005513         2       SS           ENBREL   \n",
       "4  1000551312  10005513         3       SS           ENBREL   \n",
       "\n",
       "                    prod_ai  val_vbm         route  \\\n",
       "0  FINGOLIMOD HYDROCHLORIDE        1          Oral   \n",
       "1            LEVONORGESTREL        1          Oral   \n",
       "2                ETANERCEPT        1  Subcutaneous   \n",
       "3                ETANERCEPT        1       Unknown   \n",
       "4                ETANERCEPT        1       Unknown   \n",
       "\n",
       "                              dose_vbm  cum_dose_chr cum_dose_unit dechal  \\\n",
       "0                                   QD           NaN           NaN    NaN   \n",
       "1                 1.5 MILLIGRAM DAILY;           NaN           NaN      D   \n",
       "2                   50 MG, ONCE WEEKLY          50.0            MG      U   \n",
       "3  50 MG, ONCE WEEKLY (EVERY THURSDAY)          50.0            MG      U   \n",
       "4                         1 DF, WEEKLY          50.0            MG      U   \n",
       "\n",
       "  rechal  lot_num exp_dt   nda_num  dose_amt dose_unit  \\\n",
       "0    NaN      NaN    NaN   22527.0       NaN       NaN   \n",
       "1    NaN      NaN    NaN   21998.0       1.5        MG   \n",
       "2    NaN   G79072    NaN  103795.0      50.0        MG   \n",
       "3    NaN   S77448    NaN  103795.0      50.0        MG   \n",
       "4    NaN      NaN    NaN  103795.0       1.0        DF   \n",
       "\n",
       "                                      dose_form dose_freq  \n",
       "0                                       CAPSULE        QD  \n",
       "1                                        TABLET        QD  \n",
       "2  SOLUTION FOR INJECTION IN PRE-FILLED SYRINGE       /wk  \n",
       "3  SOLUTION FOR INJECTION IN PRE-FILLED SYRINGE       /wk  \n",
       "4  SOLUTION FOR INJECTION IN PRE-FILLED SYRINGE       /wk  "
      ]
     },
     "execution_count": 143,
     "metadata": {},
     "output_type": "execute_result"
    }
   ],
   "source": [
    "faers.head()"
   ]
  },
  {
   "cell_type": "code",
   "execution_count": 142,
   "metadata": {},
   "outputs": [
    {
     "name": "stdout",
     "output_type": "stream",
     "text": [
      "308    INFLUENZA A VIRUS A/CALIFORNIA/7/2009(H1N1)-LI...\n",
      "309    INFLUENZA A VIRUS A/CALIFORNIA/7/2009(H1N1)-LI...\n",
      "Name: prod_ai, dtype: object\n",
      "25           SULFAMETHOXAZOLE\\TRIMETHOPRIM\n",
      "26    ACETAMINOPHEN\\HYDROCODONE BITARTRATE\n",
      "Name: prod_ai, dtype: object\n",
      "414     TOCOPHERYL NICOTINATE, D-.ALPHA.\n",
      "2897                  .ALPHA.-TOCOPHEROL\n",
      "Name: prod_ai, dtype: object\n",
      "309     INFLUENZA A VIRUS A/CALIFORNIA/7/2009(H1N1)-LI...\n",
      "4017    VARICELLA-ZOSTER VIRUS STRAIN OKA/MERCK LIVE A...\n",
      "Name: prod_ai, dtype: object\n",
      "309     INFLUENZA A VIRUS A/CALIFORNIA/7/2009(H1N1)-LI...\n",
      "1324    HEPATITIS A VIRUS STRAIN HM175 ANTIGEN (FORMAL...\n",
      "Name: prod_ai, dtype: object\n"
     ]
    }
   ],
   "source": [
    "print(faers[faers.prod_ai.str.contains(r'[-]', na = False)].prod_ai[1:3])\n",
    "print(faers[faers.prod_ai.str.contains(r'[\\\\]', na = False)].prod_ai[1:3])\n",
    "print(faers[faers.prod_ai.str.contains(r'[\\.]', na = False)].prod_ai[1:3])\n",
    "print(faers[faers.prod_ai.str.contains(r'[/]', na = False)].prod_ai[1:3])\n",
    "print(faers[faers.prod_ai.str.contains(r'[(]', na = False)].prod_ai[1:3])"
   ]
  },
  {
   "cell_type": "code",
   "execution_count": 64,
   "metadata": {},
   "outputs": [
    {
     "name": "stdout",
     "output_type": "stream",
     "text": [
      "0.10224619949768399\n",
      "0.31419678367629256\n"
     ]
    }
   ],
   "source": [
    "faers_cut = faers[pd.notnull(faers.prod_ai)]\n",
    "faers_cut = faers_cut[~faers_cut.prod_ai.str.contains(r'[-\\\\\\./(]', na = False)]\n",
    "print((len(faers) - len(faers_cut))/len(faers))\n",
    "print((len(faers.prod_ai.unique()) - len(faers_cut.prod_ai.unique()))/len(faers.prod_ai.unique()))"
   ]
  },
  {
   "cell_type": "markdown",
   "metadata": {},
   "source": [
    "This removed 10% of entries from the database, but led to a reduction of 31% in active ingredients, indicating many were low frequency entries, supporting the idea that they were malformed and likely not useful for later analysis."
   ]
  },
  {
   "cell_type": "code",
   "execution_count": 77,
   "metadata": {},
   "outputs": [],
   "source": [
    "active_ingredients = [x.upper() for x in sorted(faers_cut.prod_ai.unique())]"
   ]
  },
  {
   "cell_type": "code",
   "execution_count": 78,
   "metadata": {},
   "outputs": [
    {
     "data": {
      "text/plain": [
       "3966"
      ]
     },
     "execution_count": 78,
     "metadata": {},
     "output_type": "execute_result"
    }
   ],
   "source": [
    "len(active_ingredients)"
   ]
  },
  {
   "cell_type": "markdown",
   "metadata": {},
   "source": [
    "This gives us a list of 4000 active ingredients that covers 90% of the original database. Now we can try to use this list to link to the other databases."
   ]
  },
  {
   "cell_type": "code",
   "execution_count": 71,
   "metadata": {},
   "outputs": [
    {
     "data": {
      "text/html": [
       "<div>\n",
       "<style scoped>\n",
       "    .dataframe tbody tr th:only-of-type {\n",
       "        vertical-align: middle;\n",
       "    }\n",
       "\n",
       "    .dataframe tbody tr th {\n",
       "        vertical-align: top;\n",
       "    }\n",
       "\n",
       "    .dataframe thead th {\n",
       "        text-align: right;\n",
       "    }\n",
       "</style>\n",
       "<table border=\"1\" class=\"dataframe\">\n",
       "  <thead>\n",
       "    <tr style=\"text-align: right;\">\n",
       "      <th></th>\n",
       "      <th>NDC_Description</th>\n",
       "      <th>NDC</th>\n",
       "      <th>NADAC_Per_Unit</th>\n",
       "      <th>Effective_Date</th>\n",
       "      <th>Pricing_Unit</th>\n",
       "      <th>Pharmacy_Type_Indicator</th>\n",
       "      <th>OTC</th>\n",
       "      <th>Explanation_Code</th>\n",
       "      <th>Classification_for_Rate_Setting</th>\n",
       "      <th>Corresponding_Generic_Drug_NADAC_Per_Unit</th>\n",
       "      <th>Corresponding_Generic_Drug_Effective_Date</th>\n",
       "      <th>As of Date</th>\n",
       "    </tr>\n",
       "  </thead>\n",
       "  <tbody>\n",
       "    <tr>\n",
       "      <th>0</th>\n",
       "      <td>IBUPROFEN 200 MG TABLET</td>\n",
       "      <td>70000017504</td>\n",
       "      <td>0.02991</td>\n",
       "      <td>11/21/2018</td>\n",
       "      <td>EA</td>\n",
       "      <td>C/I</td>\n",
       "      <td>Y</td>\n",
       "      <td>1</td>\n",
       "      <td>G</td>\n",
       "      <td>NaN</td>\n",
       "      <td>NaN</td>\n",
       "      <td>12/12/2018</td>\n",
       "    </tr>\n",
       "    <tr>\n",
       "      <th>1</th>\n",
       "      <td>OXYCODONE HCL ER 80 MG TABLET</td>\n",
       "      <td>115156201</td>\n",
       "      <td>9.02989</td>\n",
       "      <td>11/21/2018</td>\n",
       "      <td>EA</td>\n",
       "      <td>C/I</td>\n",
       "      <td>N</td>\n",
       "      <td>1, 6</td>\n",
       "      <td>G</td>\n",
       "      <td>NaN</td>\n",
       "      <td>NaN</td>\n",
       "      <td>12/12/2018</td>\n",
       "    </tr>\n",
       "    <tr>\n",
       "      <th>2</th>\n",
       "      <td>OXYCODONE HCL 15 MG TABLET</td>\n",
       "      <td>603499128</td>\n",
       "      <td>0.15188</td>\n",
       "      <td>11/21/2018</td>\n",
       "      <td>EA</td>\n",
       "      <td>C/I</td>\n",
       "      <td>N</td>\n",
       "      <td>1</td>\n",
       "      <td>G</td>\n",
       "      <td>NaN</td>\n",
       "      <td>NaN</td>\n",
       "      <td>12/12/2018</td>\n",
       "    </tr>\n",
       "    <tr>\n",
       "      <th>3</th>\n",
       "      <td>KETOCONAZOLE 200 MG TABLET</td>\n",
       "      <td>51672402601</td>\n",
       "      <td>1.68457</td>\n",
       "      <td>11/21/2018</td>\n",
       "      <td>EA</td>\n",
       "      <td>C/I</td>\n",
       "      <td>N</td>\n",
       "      <td>1</td>\n",
       "      <td>G</td>\n",
       "      <td>NaN</td>\n",
       "      <td>NaN</td>\n",
       "      <td>12/12/2018</td>\n",
       "    </tr>\n",
       "    <tr>\n",
       "      <th>4</th>\n",
       "      <td>NICOTINE 7 MG/24HR PATCH</td>\n",
       "      <td>70000011302</td>\n",
       "      <td>1.72464</td>\n",
       "      <td>11/21/2018</td>\n",
       "      <td>EA</td>\n",
       "      <td>C/I</td>\n",
       "      <td>Y</td>\n",
       "      <td>1, 6</td>\n",
       "      <td>G</td>\n",
       "      <td>NaN</td>\n",
       "      <td>NaN</td>\n",
       "      <td>12/12/2018</td>\n",
       "    </tr>\n",
       "  </tbody>\n",
       "</table>\n",
       "</div>"
      ],
      "text/plain": [
       "                 NDC_Description          NDC  NADAC_Per_Unit Effective_Date  \\\n",
       "0        IBUPROFEN 200 MG TABLET  70000017504         0.02991     11/21/2018   \n",
       "1  OXYCODONE HCL ER 80 MG TABLET    115156201         9.02989     11/21/2018   \n",
       "2     OXYCODONE HCL 15 MG TABLET    603499128         0.15188     11/21/2018   \n",
       "3     KETOCONAZOLE 200 MG TABLET  51672402601         1.68457     11/21/2018   \n",
       "4       NICOTINE 7 MG/24HR PATCH  70000011302         1.72464     11/21/2018   \n",
       "\n",
       "  Pricing_Unit Pharmacy_Type_Indicator OTC Explanation_Code  \\\n",
       "0           EA                     C/I   Y                1   \n",
       "1           EA                     C/I   N             1, 6   \n",
       "2           EA                     C/I   N                1   \n",
       "3           EA                     C/I   N                1   \n",
       "4           EA                     C/I   Y             1, 6   \n",
       "\n",
       "  Classification_for_Rate_Setting  Corresponding_Generic_Drug_NADAC_Per_Unit  \\\n",
       "0                               G                                        NaN   \n",
       "1                               G                                        NaN   \n",
       "2                               G                                        NaN   \n",
       "3                               G                                        NaN   \n",
       "4                               G                                        NaN   \n",
       "\n",
       "  Corresponding_Generic_Drug_Effective_Date  As of Date  \n",
       "0                                       NaN  12/12/2018  \n",
       "1                                       NaN  12/12/2018  \n",
       "2                                       NaN  12/12/2018  \n",
       "3                                       NaN  12/12/2018  \n",
       "4                                       NaN  12/12/2018  "
      ]
     },
     "execution_count": 71,
     "metadata": {},
     "output_type": "execute_result"
    }
   ],
   "source": [
    "nadac.head()"
   ]
  },
  {
   "cell_type": "markdown",
   "metadata": {},
   "source": [
    "Since the NADAC database includes dosage and delivery method in the drug description column, we need to make a new column that tries to pull out just the drug name itself. We can start with a naive method that just takes the first word of the description column, although this will necessarily miss any drug name that consists of more than one word."
   ]
  },
  {
   "cell_type": "code",
   "execution_count": 72,
   "metadata": {},
   "outputs": [],
   "source": [
    "nadac['drugName'] = nadac.apply(lambda row: row.NDC_Description.split()[0], axis = 1)"
   ]
  },
  {
   "cell_type": "code",
   "execution_count": 84,
   "metadata": {},
   "outputs": [
    {
     "name": "stdout",
     "output_type": "stream",
     "text": [
      "33         THEO-24\n",
      "47    LORATADINE-D\n",
      "Name: drugName, dtype: object\n",
      "8822    E.E.S.\n",
      "8950       DR.\n",
      "Name: drugName, dtype: object\n",
      "67962    HUMIRA(CF)\n",
      "76717    HUMIRA(CF)\n",
      "Name: drugName, dtype: object\n",
      "Series([], Name: drugName, dtype: object)\n"
     ]
    }
   ],
   "source": [
    "print(nadac[nadac.drugName.str.contains(r'[-]', na = False)].drugName[1:3])\n",
    "print(nadac[nadac.drugName.str.contains(r'[\\.]', na = False)].drugName[1:3])\n",
    "print(nadac[nadac.drugName.str.contains(r'[(]', na = False)].drugName[1:3])"
   ]
  },
  {
   "cell_type": "code",
   "execution_count": 85,
   "metadata": {},
   "outputs": [
    {
     "name": "stdout",
     "output_type": "stream",
     "text": [
      "0.09111165336154577\n",
      "0.18292682926829268\n"
     ]
    }
   ],
   "source": [
    "nadac_cut = nadac[pd.notnull(nadac.drugName)]\n",
    "nadac_cut = nadac_cut[~nadac_cut.drugName.str.contains(r'[-\\\\\\./(]', na = False)]\n",
    "print((len(nadac) - len(nadac_cut))/len(nadac))\n",
    "print((len(nadac.drugName.unique()) - len(nadac_cut.drugName.unique()))/len(nadac.drugName.unique()))"
   ]
  },
  {
   "cell_type": "markdown",
   "metadata": {},
   "source": [
    "This removed ~9% of entries from the nadac database, but about 18% of unique drugs. Now we need to check the overlap with our active ingredients list."
   ]
  },
  {
   "cell_type": "code",
   "execution_count": 114,
   "metadata": {},
   "outputs": [
    {
     "data": {
      "text/plain": [
       "0.6391725030705994"
      ]
     },
     "execution_count": 114,
     "metadata": {},
     "output_type": "execute_result"
    }
   ],
   "source": [
    "1 - (len(nadac_cut) - len(nadac_cut[nadac_cut.drugName.isin(active_ingredients)]))/len(nadac_cut)"
   ]
  },
  {
   "cell_type": "code",
   "execution_count": 97,
   "metadata": {},
   "outputs": [
    {
     "data": {
      "text/plain": [
       "15    AMLODIPINE\n",
       "16        LIVALO\n",
       "19       ENSKYCE\n",
       "26            HM\n",
       "29    NICORELIEF\n",
       "32            GS\n",
       "39      CYCLOSET\n",
       "42         MAPAP\n",
       "46          TUMS\n",
       "Name: drugName, dtype: object"
      ]
     },
     "execution_count": 97,
     "metadata": {},
     "output_type": "execute_result"
    }
   ],
   "source": [
    "nadac_cut[~nadac_cut.drugName.isin(active_ingredients)].drugName[1:10]"
   ]
  },
  {
   "cell_type": "markdown",
   "metadata": {},
   "source": [
    "Unfortunately, only 63% of the drugName entries in the NADAC database match an entry in our active ingredients list. If we look at the entries that don't match, we see many brand names, which may have an active ingredient that match. To get these entries as well, we will need to map brand names to active ingredients."
   ]
  },
  {
   "cell_type": "code",
   "execution_count": 118,
   "metadata": {},
   "outputs": [],
   "source": [
    "brand_names = {x.drugname:x.prod_ai for x in faers_cut[faers_cut.prod_ai.isin(active_ingredients)].itertuples()}\n",
    "drug_names = brand_names\n",
    "for ai in active_ingredients:\n",
    "    drug_names[ai] = ai"
   ]
  },
  {
   "cell_type": "code",
   "execution_count": 119,
   "metadata": {},
   "outputs": [
    {
     "data": {
      "text/plain": [
       "0.8602464395432481"
      ]
     },
     "execution_count": 119,
     "metadata": {},
     "output_type": "execute_result"
    }
   ],
   "source": [
    "1 - (len(nadac_cut) - len(nadac_cut[(nadac_cut.drugName.isin(drug_names))]))/len(nadac_cut)"
   ]
  },
  {
   "cell_type": "markdown",
   "metadata": {},
   "source": [
    "By including brand names, we now have 86% coverage in the NADAC database. We can now create a new column containing the parsed active ingredient."
   ]
  },
  {
   "cell_type": "code",
   "execution_count": 121,
   "metadata": {},
   "outputs": [],
   "source": [
    "nadac_cut['prod_ai'] = nadac_cut.apply(lambda row: drug_names[row.drugName] if row.drugName in drug_names else 'NA', axis = 1)"
   ]
  },
  {
   "cell_type": "code",
   "execution_count": 139,
   "metadata": {},
   "outputs": [],
   "source": [
    "acetaminophen_faers = faers_cut[faers_cut.prod_ai == 'ACETAMINOPHEN']\n",
    "acetaminophen_nadac = nadac_cut[nadac_cut.prod_ai == 'ACETAMINOPHEN']"
   ]
  },
  {
   "cell_type": "code",
   "execution_count": 140,
   "metadata": {},
   "outputs": [
    {
     "data": {
      "text/html": [
       "<div>\n",
       "<style scoped>\n",
       "    .dataframe tbody tr th:only-of-type {\n",
       "        vertical-align: middle;\n",
       "    }\n",
       "\n",
       "    .dataframe tbody tr th {\n",
       "        vertical-align: top;\n",
       "    }\n",
       "\n",
       "    .dataframe thead th {\n",
       "        text-align: right;\n",
       "    }\n",
       "</style>\n",
       "<table border=\"1\" class=\"dataframe\">\n",
       "  <thead>\n",
       "    <tr style=\"text-align: right;\">\n",
       "      <th></th>\n",
       "      <th>primaryid</th>\n",
       "      <th>caseid</th>\n",
       "      <th>drug_seq</th>\n",
       "      <th>role_cod</th>\n",
       "      <th>drugname</th>\n",
       "      <th>prod_ai</th>\n",
       "      <th>val_vbm</th>\n",
       "      <th>route</th>\n",
       "      <th>dose_vbm</th>\n",
       "      <th>cum_dose_chr</th>\n",
       "      <th>cum_dose_unit</th>\n",
       "      <th>dechal</th>\n",
       "      <th>rechal</th>\n",
       "      <th>lot_num</th>\n",
       "      <th>exp_dt</th>\n",
       "      <th>nda_num</th>\n",
       "      <th>dose_amt</th>\n",
       "      <th>dose_unit</th>\n",
       "      <th>dose_form</th>\n",
       "      <th>dose_freq</th>\n",
       "    </tr>\n",
       "  </thead>\n",
       "  <tbody>\n",
       "    <tr>\n",
       "      <th>133</th>\n",
       "      <td>100190523</td>\n",
       "      <td>10019052</td>\n",
       "      <td>5</td>\n",
       "      <td>SS</td>\n",
       "      <td>ACETAMINOPHEN.</td>\n",
       "      <td>ACETAMINOPHEN</td>\n",
       "      <td>1</td>\n",
       "      <td>Unknown</td>\n",
       "      <td>NaN</td>\n",
       "      <td>NaN</td>\n",
       "      <td>NaN</td>\n",
       "      <td>U</td>\n",
       "      <td>NaN</td>\n",
       "      <td>NaN</td>\n",
       "      <td>NaN</td>\n",
       "      <td>NaN</td>\n",
       "      <td>30.0</td>\n",
       "      <td>G</td>\n",
       "      <td>UNSPECIFIED</td>\n",
       "      <td>NaN</td>\n",
       "    </tr>\n",
       "    <tr>\n",
       "      <th>168</th>\n",
       "      <td>100268942</td>\n",
       "      <td>10026894</td>\n",
       "      <td>13</td>\n",
       "      <td>C</td>\n",
       "      <td>PARACETAMOL</td>\n",
       "      <td>ACETAMINOPHEN</td>\n",
       "      <td>1</td>\n",
       "      <td>Unknown</td>\n",
       "      <td>NaN</td>\n",
       "      <td>NaN</td>\n",
       "      <td>NaN</td>\n",
       "      <td>D</td>\n",
       "      <td>NaN</td>\n",
       "      <td>NaN</td>\n",
       "      <td>NaN</td>\n",
       "      <td>NaN</td>\n",
       "      <td>1.0</td>\n",
       "      <td>G</td>\n",
       "      <td>TABLET</td>\n",
       "      <td>TID</td>\n",
       "    </tr>\n",
       "    <tr>\n",
       "      <th>439</th>\n",
       "      <td>1004975117</td>\n",
       "      <td>10049751</td>\n",
       "      <td>43</td>\n",
       "      <td>C</td>\n",
       "      <td>PYRINAZIN</td>\n",
       "      <td>ACETAMINOPHEN</td>\n",
       "      <td>1</td>\n",
       "      <td>Oral</td>\n",
       "      <td>0.5 MG, ONCE DAILY</td>\n",
       "      <td>0.5</td>\n",
       "      <td>MG</td>\n",
       "      <td>D</td>\n",
       "      <td>NaN</td>\n",
       "      <td>NaN</td>\n",
       "      <td>NaN</td>\n",
       "      <td>NaN</td>\n",
       "      <td>0.5</td>\n",
       "      <td>MG</td>\n",
       "      <td>NaN</td>\n",
       "      <td>QD</td>\n",
       "    </tr>\n",
       "    <tr>\n",
       "      <th>440</th>\n",
       "      <td>1004975117</td>\n",
       "      <td>10049751</td>\n",
       "      <td>44</td>\n",
       "      <td>C</td>\n",
       "      <td>PYRINAZIN</td>\n",
       "      <td>ACETAMINOPHEN</td>\n",
       "      <td>1</td>\n",
       "      <td>Oral</td>\n",
       "      <td>0.5 MG, ONCE DAILY</td>\n",
       "      <td>0.5</td>\n",
       "      <td>MG</td>\n",
       "      <td>D</td>\n",
       "      <td>NaN</td>\n",
       "      <td>NaN</td>\n",
       "      <td>NaN</td>\n",
       "      <td>NaN</td>\n",
       "      <td>0.5</td>\n",
       "      <td>MG</td>\n",
       "      <td>NaN</td>\n",
       "      <td>QD</td>\n",
       "    </tr>\n",
       "  </tbody>\n",
       "</table>\n",
       "</div>"
      ],
      "text/plain": [
       "      primaryid    caseid  drug_seq role_cod        drugname        prod_ai  \\\n",
       "133   100190523  10019052         5       SS  ACETAMINOPHEN.  ACETAMINOPHEN   \n",
       "168   100268942  10026894        13        C     PARACETAMOL  ACETAMINOPHEN   \n",
       "439  1004975117  10049751        43        C       PYRINAZIN  ACETAMINOPHEN   \n",
       "440  1004975117  10049751        44        C       PYRINAZIN  ACETAMINOPHEN   \n",
       "\n",
       "     val_vbm    route            dose_vbm  cum_dose_chr cum_dose_unit dechal  \\\n",
       "133        1  Unknown                 NaN           NaN           NaN      U   \n",
       "168        1  Unknown                 NaN           NaN           NaN      D   \n",
       "439        1     Oral  0.5 MG, ONCE DAILY           0.5            MG      D   \n",
       "440        1     Oral  0.5 MG, ONCE DAILY           0.5            MG      D   \n",
       "\n",
       "    rechal lot_num exp_dt  nda_num  dose_amt dose_unit    dose_form dose_freq  \n",
       "133    NaN     NaN    NaN      NaN      30.0         G  UNSPECIFIED       NaN  \n",
       "168    NaN     NaN    NaN      NaN       1.0         G       TABLET       TID  \n",
       "439    NaN     NaN    NaN      NaN       0.5        MG          NaN        QD  \n",
       "440    NaN     NaN    NaN      NaN       0.5        MG          NaN        QD  "
      ]
     },
     "execution_count": 140,
     "metadata": {},
     "output_type": "execute_result"
    }
   ],
   "source": [
    "acetaminophen_faers[1:5]"
   ]
  },
  {
   "cell_type": "code",
   "execution_count": 141,
   "metadata": {},
   "outputs": [
    {
     "data": {
      "text/html": [
       "<div>\n",
       "<style scoped>\n",
       "    .dataframe tbody tr th:only-of-type {\n",
       "        vertical-align: middle;\n",
       "    }\n",
       "\n",
       "    .dataframe tbody tr th {\n",
       "        vertical-align: top;\n",
       "    }\n",
       "\n",
       "    .dataframe thead th {\n",
       "        text-align: right;\n",
       "    }\n",
       "</style>\n",
       "<table border=\"1\" class=\"dataframe\">\n",
       "  <thead>\n",
       "    <tr style=\"text-align: right;\">\n",
       "      <th></th>\n",
       "      <th>NDC_Description</th>\n",
       "      <th>NDC</th>\n",
       "      <th>NADAC_Per_Unit</th>\n",
       "      <th>Effective_Date</th>\n",
       "      <th>Pricing_Unit</th>\n",
       "      <th>Pharmacy_Type_Indicator</th>\n",
       "      <th>OTC</th>\n",
       "      <th>Explanation_Code</th>\n",
       "      <th>Classification_for_Rate_Setting</th>\n",
       "      <th>Corresponding_Generic_Drug_NADAC_Per_Unit</th>\n",
       "      <th>Corresponding_Generic_Drug_Effective_Date</th>\n",
       "      <th>As of Date</th>\n",
       "      <th>drugName</th>\n",
       "      <th>prod_ai</th>\n",
       "    </tr>\n",
       "  </thead>\n",
       "  <tbody>\n",
       "    <tr>\n",
       "      <th>470</th>\n",
       "      <td>ACEPHEN 650 MG SUPPOSITORY</td>\n",
       "      <td>713016512</td>\n",
       "      <td>0.32045</td>\n",
       "      <td>11/21/2018</td>\n",
       "      <td>EA</td>\n",
       "      <td>C/I</td>\n",
       "      <td>Y</td>\n",
       "      <td>1</td>\n",
       "      <td>G</td>\n",
       "      <td>NaN</td>\n",
       "      <td>NaN</td>\n",
       "      <td>12/12/2018</td>\n",
       "      <td>ACEPHEN</td>\n",
       "      <td>ACETAMINOPHEN</td>\n",
       "    </tr>\n",
       "    <tr>\n",
       "      <th>627</th>\n",
       "      <td>ACETAMINOPHEN 500 MG TABLET</td>\n",
       "      <td>904673080</td>\n",
       "      <td>0.02684</td>\n",
       "      <td>11/21/2018</td>\n",
       "      <td>EA</td>\n",
       "      <td>C/I</td>\n",
       "      <td>Y</td>\n",
       "      <td>1</td>\n",
       "      <td>G</td>\n",
       "      <td>NaN</td>\n",
       "      <td>NaN</td>\n",
       "      <td>12/12/2018</td>\n",
       "      <td>ACETAMINOPHEN</td>\n",
       "      <td>ACETAMINOPHEN</td>\n",
       "    </tr>\n",
       "    <tr>\n",
       "      <th>1176</th>\n",
       "      <td>ACETAMINOPHEN 500 MG GELCAP</td>\n",
       "      <td>70000031202</td>\n",
       "      <td>0.02684</td>\n",
       "      <td>12/05/2018</td>\n",
       "      <td>EA</td>\n",
       "      <td>C/I</td>\n",
       "      <td>Y</td>\n",
       "      <td>1</td>\n",
       "      <td>G</td>\n",
       "      <td>NaN</td>\n",
       "      <td>NaN</td>\n",
       "      <td>12/12/2018</td>\n",
       "      <td>ACETAMINOPHEN</td>\n",
       "      <td>ACETAMINOPHEN</td>\n",
       "    </tr>\n",
       "    <tr>\n",
       "      <th>1365</th>\n",
       "      <td>ACETAMINOPHEN 500 MG CAPLET</td>\n",
       "      <td>70000015102</td>\n",
       "      <td>0.02684</td>\n",
       "      <td>11/21/2018</td>\n",
       "      <td>EA</td>\n",
       "      <td>C/I</td>\n",
       "      <td>Y</td>\n",
       "      <td>1</td>\n",
       "      <td>G</td>\n",
       "      <td>NaN</td>\n",
       "      <td>NaN</td>\n",
       "      <td>12/12/2018</td>\n",
       "      <td>ACETAMINOPHEN</td>\n",
       "      <td>ACETAMINOPHEN</td>\n",
       "    </tr>\n",
       "  </tbody>\n",
       "</table>\n",
       "</div>"
      ],
      "text/plain": [
       "                  NDC_Description          NDC  NADAC_Per_Unit Effective_Date  \\\n",
       "470    ACEPHEN 650 MG SUPPOSITORY    713016512         0.32045     11/21/2018   \n",
       "627   ACETAMINOPHEN 500 MG TABLET    904673080         0.02684     11/21/2018   \n",
       "1176  ACETAMINOPHEN 500 MG GELCAP  70000031202         0.02684     12/05/2018   \n",
       "1365  ACETAMINOPHEN 500 MG CAPLET  70000015102         0.02684     11/21/2018   \n",
       "\n",
       "     Pricing_Unit Pharmacy_Type_Indicator OTC Explanation_Code  \\\n",
       "470            EA                     C/I   Y                1   \n",
       "627            EA                     C/I   Y                1   \n",
       "1176           EA                     C/I   Y                1   \n",
       "1365           EA                     C/I   Y                1   \n",
       "\n",
       "     Classification_for_Rate_Setting  \\\n",
       "470                                G   \n",
       "627                                G   \n",
       "1176                               G   \n",
       "1365                               G   \n",
       "\n",
       "      Corresponding_Generic_Drug_NADAC_Per_Unit  \\\n",
       "470                                         NaN   \n",
       "627                                         NaN   \n",
       "1176                                        NaN   \n",
       "1365                                        NaN   \n",
       "\n",
       "     Corresponding_Generic_Drug_Effective_Date  As of Date       drugName  \\\n",
       "470                                        NaN  12/12/2018        ACEPHEN   \n",
       "627                                        NaN  12/12/2018  ACETAMINOPHEN   \n",
       "1176                                       NaN  12/12/2018  ACETAMINOPHEN   \n",
       "1365                                       NaN  12/12/2018  ACETAMINOPHEN   \n",
       "\n",
       "            prod_ai  \n",
       "470   ACETAMINOPHEN  \n",
       "627   ACETAMINOPHEN  \n",
       "1176  ACETAMINOPHEN  \n",
       "1365  ACETAMINOPHEN  "
      ]
     },
     "execution_count": 141,
     "metadata": {},
     "output_type": "execute_result"
    }
   ],
   "source": [
    "acetaminophen_nadac[1:5]"
   ]
  },
  {
   "cell_type": "code",
   "execution_count": null,
   "metadata": {},
   "outputs": [],
   "source": []
  }
 ],
 "metadata": {
  "kernelspec": {
   "display_name": "Python 3",
   "language": "python",
   "name": "python3"
  },
  "language_info": {
   "codemirror_mode": {
    "name": "ipython",
    "version": 3
   },
   "file_extension": ".py",
   "mimetype": "text/x-python",
   "name": "python",
   "nbconvert_exporter": "python",
   "pygments_lexer": "ipython3",
   "version": "3.7.3"
  }
 },
 "nbformat": 4,
 "nbformat_minor": 2
}
